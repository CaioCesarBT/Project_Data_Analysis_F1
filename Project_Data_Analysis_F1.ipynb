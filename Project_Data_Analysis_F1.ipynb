{
  "nbformat": 4,
  "nbformat_minor": 0,
  "metadata": {
    "colab": {
      "provenance": [],
      "mount_file_id": "1uXds2Ek6Az1mD1msSz_JLrJIOp-ehmSy",
      "authorship_tag": "ABX9TyN4r11rbSBvgR5Mj73Y4X31",
      "include_colab_link": true
    },
    "kernelspec": {
      "name": "python3",
      "display_name": "Python 3"
    },
    "language_info": {
      "name": "python"
    }
  },
  "cells": [
    {
      "cell_type": "markdown",
      "metadata": {
        "id": "view-in-github",
        "colab_type": "text"
      },
      "source": [
        "<a href=\"https://colab.research.google.com/github/CaioCesarBT/Project_Data_Analysis_F1/blob/main/Project_Data_Analysis_F1.ipynb\" target=\"_parent\"><img src=\"https://colab.research.google.com/assets/colab-badge.svg\" alt=\"Open In Colab\"/></a>"
      ]
    },
    {
      "cell_type": "code",
      "execution_count": 3,
      "metadata": {
        "id": "B3NQRZSY_4I0"
      },
      "outputs": [],
      "source": [
        "import pandas as pd\n",
        "import numpy as np\n"
      ]
    },
    {
      "cell_type": "code",
      "source": [
        "df1=pd.read_csv(\"/content/drive/MyDrive/F1 DATASET/drivers.csv\")\n",
        "df2=pd.read_csv(\"/content/drive/MyDrive/F1 DATASET/driver_standings.csv\")\n",
        "df3=pd.read_csv(\"/content/drive/MyDrive/F1 DATASET/races.csv\")\n",
        "df4=pd.read_csv(\"/content/drive/MyDrive/F1 DATASET/lap_times.csv\")\n",
        "df5=pd.read_csv(\"/content/drive/MyDrive/F1 DATASET/results.csv\")\n",
        "df6=pd.read_csv(\"/content/drive/MyDrive/F1 DATASET/seasons.csv\")\n",
        "df7=pd.read_csv(\"/content/drive/MyDrive/F1 DATASET/qualifying.csv\")\n",
        "df8=pd.read_csv(\"/content/drive/MyDrive/F1 DATASET/circuits.csv\")\n",
        "df9=pd.read_csv(\"/content/drive/MyDrive/F1 DATASET/pit_stops.csv\")\n",
        "df10=pd.read_csv(\"/content/drive/MyDrive/F1 DATASET/status.csv\")\n",
        "df11=pd.read_csv(\"/content/drive/MyDrive/F1 DATASET/constructor_results.csv\")\n",
        "df12=pd.read_csv(\"/content/drive/MyDrive/F1 DATASET/constructor_standings.csv\")\n",
        "df13=pd.read_csv(\"/content/drive/MyDrive/F1 DATASET/constructors.csv\")\n",
        "df14=pd.read_csv(\"/content/drive/MyDrive/F1 DATASET/sprint_results.csv\")\n"
      ],
      "metadata": {
        "id": "uCETk8sNKKmk"
      },
      "execution_count": 28,
      "outputs": []
    },
    {
      "cell_type": "code",
      "source": [
        "df.info\n"
      ],
      "metadata": {
        "colab": {
          "base_uri": "https://localhost:8080/"
        },
        "id": "juB6-ZATMyzP",
        "outputId": "a90cf1cb-db01-42ca-ca9a-f2411f9348ff"
      },
      "execution_count": 27,
      "outputs": [
        {
          "output_type": "execute_result",
          "data": {
            "text/plain": [
              "<bound method DataFrame.info of      statusId          status\n",
              "0           1        Finished\n",
              "1           2    Disqualified\n",
              "2           3        Accident\n",
              "3           4       Collision\n",
              "4           5          Engine\n",
              "..        ...             ...\n",
              "134       137          Damage\n",
              "135       138          Debris\n",
              "136       139         Illness\n",
              "137       140       Undertray\n",
              "138       141  Cooling system\n",
              "\n",
              "[139 rows x 2 columns]>"
            ]
          },
          "metadata": {},
          "execution_count": 27
        }
      ]
    },
    {
      "cell_type": "code",
      "source": [
        "df.isnull().sum()"
      ],
      "metadata": {
        "colab": {
          "base_uri": "https://localhost:8080/"
        },
        "id": "5jMDuD6YNYHB",
        "outputId": "31c8a674-ce19-442c-90d7-e9b22ec02048"
      },
      "execution_count": 30,
      "outputs": [
        {
          "output_type": "execute_result",
          "data": {
            "text/plain": [
              "statusId    0\n",
              "status      0\n",
              "dtype: int64"
            ]
          },
          "metadata": {},
          "execution_count": 30
        }
      ]
    },
    {
      "cell_type": "code",
      "source": [],
      "metadata": {
        "id": "EK86T-VNNmkl"
      },
      "execution_count": null,
      "outputs": []
    }
  ]
}