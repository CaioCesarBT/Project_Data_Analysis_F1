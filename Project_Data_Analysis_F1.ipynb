{
  "nbformat": 4,
  "nbformat_minor": 0,
  "metadata": {
    "colab": {
      "provenance": [],
      "mount_file_id": "1uXds2Ek6Az1mD1msSz_JLrJIOp-ehmSy",
      "authorship_tag": "ABX9TyNGCK9110ihZCyeqP+cDG52",
      "include_colab_link": true
    },
    "kernelspec": {
      "name": "python3",
      "display_name": "Python 3"
    },
    "language_info": {
      "name": "python"
    }
  },
  "cells": [
    {
      "cell_type": "markdown",
      "metadata": {
        "id": "view-in-github",
        "colab_type": "text"
      },
      "source": [
        "<a href=\"https://colab.research.google.com/github/CaioCesarBT/Project_Data_Analysis_F1/blob/main/Project_Data_Analysis_F1.ipynb\" target=\"_parent\"><img src=\"https://colab.research.google.com/assets/colab-badge.svg\" alt=\"Open In Colab\"/></a>"
      ]
    },
    {
      "cell_type": "code",
      "execution_count": 3,
      "metadata": {
        "id": "B3NQRZSY_4I0"
      },
      "outputs": [],
      "source": [
        "import pandas as pd\n",
        "import numpy as np\n"
      ]
    },
    {
      "cell_type": "code",
      "source": [
        "df1=pd.read_csv(\"/content/drive/MyDrive/F1 DATASET/drivers.csv\")\n",
        "df2=pd.read_csv(\"/content/drive/MyDrive/F1 DATASET/driver_standings.csv\")\n",
        "df3=pd.read_csv(\"/content/drive/MyDrive/F1 DATASET/races.csv\")\n",
        "df4=pd.read_csv(\"/content/drive/MyDrive/F1 DATASET/lap_times.csv\")\n",
        "df5=pd.read_csv(\"/content/drive/MyDrive/F1 DATASET/results.csv\")\n",
        "df6=pd.read_csv(\"/content/drive/MyDrive/F1 DATASET/seasons.csv\")\n",
        "df7=pd.read_csv(\"/content/drive/MyDrive/F1 DATASET/qualifying.csv\")"
      ],
      "metadata": {
        "id": "uCETk8sNKKmk"
      },
      "execution_count": 14,
      "outputs": []
    }
  ]
}